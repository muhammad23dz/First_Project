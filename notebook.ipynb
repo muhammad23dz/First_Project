{
  "metadata": {
    "kernelspec": {
      "name": "python",
      "display_name": "Python (Pyodide)",
      "language": "python"
    },
    "language_info": {
      "codemirror_mode": {
        "name": "python",
        "version": 3
      },
      "file_extension": ".py",
      "mimetype": "text/x-python",
      "name": "python",
      "nbconvert_exporter": "python",
      "pygments_lexer": "ipython3",
      "version": "3.8"
    }
  },
  "nbformat_minor": 4,
  "nbformat": 4,
  "cells": [
    {
      "cell_type": "markdown",
      "source": "Notebook",
      "metadata": {}
    },
    {
      "cell_type": "markdown",
      "source": "Introduction",
      "metadata": {}
    },
    {
      "cell_type": "markdown",
      "source": "Data science languages",
      "metadata": {}
    },
    {
      "cell_type": "markdown",
      "source": "Data science libraries",
      "metadata": {}
    },
    {
      "cell_type": "markdown",
      "source": "Table of Data Science tools",
      "metadata": {}
    },
    {
      "cell_type": "markdown",
      "source": "Arithmetic expression examples",
      "metadata": {}
    },
    {
      "cell_type": "code",
      "source": "x=1\ny=2\nz=x+y",
      "metadata": {
        "trusted": true
      },
      "outputs": [],
      "execution_count": 2
    },
    {
      "cell_type": "code",
      "source": "x=1\ny=2\nz=x*y",
      "metadata": {
        "trusted": true
      },
      "outputs": [],
      "execution_count": 4
    },
    {
      "cell_type": "markdown",
      "source": " Objectives",
      "metadata": {}
    },
    {
      "cell_type": "markdown",
      "source": " Author’s name",
      "metadata": {}
    },
    {
      "cell_type": "code",
      "source": "num_hours=1\nminutes=num_hours*60\nminutes\n\n\n",
      "metadata": {
        "trusted": true
      },
      "outputs": [
        {
          "execution_count": 12,
          "output_type": "execute_result",
          "data": {
            "text/plain": "60"
          },
          "metadata": {}
        }
      ],
      "execution_count": 12
    },
    {
      "cell_type": "code",
      "source": "",
      "metadata": {
        "trusted": true
      },
      "outputs": [],
      "execution_count": null
    }
  ]
}